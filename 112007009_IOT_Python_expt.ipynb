{
 "cells": [
  {
   "cell_type": "markdown",
   "id": "e9a5df07",
   "metadata": {},
   "source": [
    "- *Write a Program for arithmetic operation in Python.*"
   ]
  },
  {
   "cell_type": "code",
   "execution_count": 11,
   "id": "8d96c53e",
   "metadata": {},
   "outputs": [
    {
     "name": "stdout",
     "output_type": "stream",
     "text": [
      "Enter an integer: \n",
      "345\n",
      "Enter an integer: \n",
      "654\n",
      "Enter the number cooresponding to the desired operation:1. Add 2. Subtract 3. Multiplication 4. Division\n",
      "3\n",
      "225630\n"
     ]
    }
   ],
   "source": [
    "import numpy as np\n",
    "x=int(input('Enter an integer: \\n'))\n",
    "y=int(input('Enter an integer: \\n'))\n",
    "n=int(input(\"Enter the number cooresponding to the desired operation:1. Add 2. Subtract 3. Multiplication 4. Division\\n\"))\n",
    "def calc(n):\n",
    "    switcher = {\n",
    "        1: x+y,\n",
    "        2: x-y,\n",
    "        3: x*y,\n",
    "        4: x/y\n",
    "    }\n",
    "    print(switcher.get(n, \"nothing\"))\n",
    "calc(n)"
   ]
  },
  {
   "cell_type": "markdown",
   "id": "5f920892",
   "metadata": {},
   "source": [
    "- *Write a Program for looping statement in Python.*"
   ]
  },
  {
   "cell_type": "code",
   "execution_count": 6,
   "id": "43f65da1",
   "metadata": {},
   "outputs": [
    {
     "name": "stdout",
     "output_type": "stream",
     "text": [
      "5\n",
      "Sum of squares of first 5 natural numbers = 55\n"
     ]
    }
   ],
   "source": [
    "N=int(input())\n",
    "s=0\n",
    "for i in range(N+1):\n",
    "    s+= (i**2)\n",
    "print(\"Sum of squares of first {} natural numbers = {}\".format(N,s))"
   ]
  },
  {
   "cell_type": "code",
   "execution_count": 12,
   "id": "7b1a2015",
   "metadata": {},
   "outputs": [
    {
     "name": "stdout",
     "output_type": "stream",
     "text": [
      "515\n",
      "515 is not an Armstrong number\n"
     ]
    }
   ],
   "source": [
    "m=int(input())\n",
    "ms=str(m)\n",
    "M=m\n",
    "c=0\n",
    "while m>0:\n",
    "    c+=(m%10)**(len(ms))\n",
    "    m//=10\n",
    "if M==c:\n",
    "    print(\"{} is an Armstrong number\".format(M))\n",
    "else:\n",
    "    print(\"{} is not an Armstrong number\".format(M))"
   ]
  },
  {
   "cell_type": "markdown",
   "id": "ee49de19",
   "metadata": {},
   "source": [
    "- *Encryption in python*"
   ]
  },
  {
   "cell_type": "code",
   "execution_count": 13,
   "id": "016c9126",
   "metadata": {},
   "outputs": [
    {
     "name": "stdout",
     "output_type": "stream",
     "text": [
      "Enter the string:\n",
      "COEP Technological University\n",
      "original string:  COEP Technological University\n",
      "encrypted string:  b'gAAAAABkQBNgz_1Gw6T2xqwkBjW6hgL6_ViBHh2s4RSM3zw393n5KT-ID4Rme1X69RLCreXhEnuPvYtpbjNxLmuyhpgb_TUuLgBznGuZ1498FzIeQo35njE='\n"
     ]
    }
   ],
   "source": [
    "from cryptography.fernet import Fernet\n",
    "message = input(\"Enter the string:\\n\")\n",
    " \n",
    "\n",
    " \n",
    "key = Fernet.generate_key()\n",
    " \n",
    "\n",
    " \n",
    "fernet = Fernet(key)\n",
    " \n",
    "\n",
    "encMessage = fernet.encrypt(message.encode())\n",
    " \n",
    "print(\"original string: \", message)\n",
    "print(\"encrypted string: \", encMessage)"
   ]
  },
  {
   "cell_type": "markdown",
   "id": "c4bdf085",
   "metadata": {},
   "source": [
    "- *Decryption in Python.*"
   ]
  },
  {
   "cell_type": "code",
   "execution_count": 14,
   "id": "e85ad231",
   "metadata": {},
   "outputs": [
    {
     "name": "stdout",
     "output_type": "stream",
     "text": [
      "decrypted string:  COEP Technological University\n"
     ]
    }
   ],
   "source": [
    "decMessage = fernet.decrypt(encMessage).decode()\n",
    " \n",
    "print(\"decrypted string: \", decMessage)"
   ]
  }
 ],
 "metadata": {
  "kernelspec": {
   "display_name": "Python 3 (ipykernel)",
   "language": "python",
   "name": "python3"
  },
  "language_info": {
   "codemirror_mode": {
    "name": "ipython",
    "version": 3
   },
   "file_extension": ".py",
   "mimetype": "text/x-python",
   "name": "python",
   "nbconvert_exporter": "python",
   "pygments_lexer": "ipython3",
   "version": "3.8.5"
  }
 },
 "nbformat": 4,
 "nbformat_minor": 5
}
